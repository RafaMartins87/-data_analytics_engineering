{
 "cells": [
  {
   "cell_type": "markdown",
   "id": "3503bb91",
   "metadata": {},
   "source": [
    "# Exercícios"
   ]
  },
  {
   "cell_type": "markdown",
   "id": "260f828d",
   "metadata": {},
   "source": [
    "1. Crie um dataframe de tax_data_2016.csv que usa apenas as colunas específicas necessárias para ver se há diferenças por geografia e nível de renda na composição familiar.\n",
    "Para fazer isso, selecione as colunas sobre grupo de renda, são elas: CEP (zipcode), status de declaração de imposto de renda (coluna mars1 para solteiro e MARS2 para casado), e  NUMDEP (número de dependentes). \n",
    "\n"
   ]
  },
  {
   "cell_type": "code",
   "execution_count": 1,
   "id": "f7c7112e",
   "metadata": {},
   "outputs": [],
   "source": [
    "import pandas as pd"
   ]
  },
  {
   "cell_type": "code",
   "execution_count": null,
   "id": "a1551064",
   "metadata": {},
   "outputs": [],
   "source": [
    "path='dados/atividade1/us_tax_data_2016.csv'\n",
    "tax_data_df = pd.read_csv(path,encoding=\"ansi\")\n",
    "\n",
    "tax_filtered = tax_data_df[['zipcode','mars1','MARS2','NUMDEP']]\n",
    "tax_filtered"
   ]
  },
  {
   "attachments": {},
   "cell_type": "markdown",
   "id": "87bdcc3d",
   "metadata": {},
   "source": [
    "2. Obtenha as primeiras 500 linhas em um dataframe chamado primeiras500. \n",
    "Em seguida obtenha as próximas 500 linhas em um dataframe proximas500. \n",
    "Para fazer isso, use os argumentos ``nrows`` e  ``skiprows`` para obter os registros corretos, \n",
    "``header`` para informar aos pandas que os dados não têm nomes de colunas e ``names`` para fornecer os nomes de colunas ausentes.     \n",
    "Depois, nomeie as colunas em proximos500 fornecendo uma lista de colunas de primeiros500 para o argumento ``names``.\n",
    "Use a função list() para obter nomes de coluna de primeiros500."
   ]
  },
  {
   "cell_type": "code",
   "execution_count": 4,
   "id": "a0be8232",
   "metadata": {},
   "outputs": [],
   "source": [
    "tax_primeiras500 = tax_filtered.iloc[:500,:]"
   ]
  },
  {
   "cell_type": "code",
   "execution_count": 5,
   "id": "138855c4",
   "metadata": {},
   "outputs": [
    {
     "data": {
      "text/html": [
       "<div>\n",
       "<style scoped>\n",
       "    .dataframe tbody tr th:only-of-type {\n",
       "        vertical-align: middle;\n",
       "    }\n",
       "\n",
       "    .dataframe tbody tr th {\n",
       "        vertical-align: top;\n",
       "    }\n",
       "\n",
       "    .dataframe thead th {\n",
       "        text-align: right;\n",
       "    }\n",
       "</style>\n",
       "<table border=\"1\" class=\"dataframe\">\n",
       "  <thead>\n",
       "    <tr style=\"text-align: right;\">\n",
       "      <th></th>\n",
       "      <th>zipcode</th>\n",
       "      <th>mars1</th>\n",
       "      <th>MARS2</th>\n",
       "      <th>NUMDEP</th>\n",
       "    </tr>\n",
       "  </thead>\n",
       "  <tbody>\n",
       "    <tr>\n",
       "      <th>0</th>\n",
       "      <td>0</td>\n",
       "      <td>477700</td>\n",
       "      <td>105350</td>\n",
       "      <td>491310</td>\n",
       "    </tr>\n",
       "    <tr>\n",
       "      <th>1</th>\n",
       "      <td>0</td>\n",
       "      <td>211930</td>\n",
       "      <td>142340</td>\n",
       "      <td>360480</td>\n",
       "    </tr>\n",
       "    <tr>\n",
       "      <th>2</th>\n",
       "      <td>0</td>\n",
       "      <td>83420</td>\n",
       "      <td>137870</td>\n",
       "      <td>182880</td>\n",
       "    </tr>\n",
       "    <tr>\n",
       "      <th>3</th>\n",
       "      <td>0</td>\n",
       "      <td>29420</td>\n",
       "      <td>124060</td>\n",
       "      <td>130160</td>\n",
       "    </tr>\n",
       "    <tr>\n",
       "      <th>4</th>\n",
       "      <td>0</td>\n",
       "      <td>20240</td>\n",
       "      <td>188080</td>\n",
       "      <td>195990</td>\n",
       "    </tr>\n",
       "    <tr>\n",
       "      <th>...</th>\n",
       "      <td>...</td>\n",
       "      <td>...</td>\n",
       "      <td>...</td>\n",
       "      <td>...</td>\n",
       "    </tr>\n",
       "    <tr>\n",
       "      <th>495</th>\n",
       "      <td>35176</td>\n",
       "      <td>0</td>\n",
       "      <td>20</td>\n",
       "      <td>30</td>\n",
       "    </tr>\n",
       "    <tr>\n",
       "      <th>496</th>\n",
       "      <td>35176</td>\n",
       "      <td>0</td>\n",
       "      <td>20</td>\n",
       "      <td>0</td>\n",
       "    </tr>\n",
       "    <tr>\n",
       "      <th>497</th>\n",
       "      <td>35176</td>\n",
       "      <td>0</td>\n",
       "      <td>0</td>\n",
       "      <td>0</td>\n",
       "    </tr>\n",
       "    <tr>\n",
       "      <th>498</th>\n",
       "      <td>35178</td>\n",
       "      <td>330</td>\n",
       "      <td>100</td>\n",
       "      <td>320</td>\n",
       "    </tr>\n",
       "    <tr>\n",
       "      <th>499</th>\n",
       "      <td>35178</td>\n",
       "      <td>150</td>\n",
       "      <td>120</td>\n",
       "      <td>250</td>\n",
       "    </tr>\n",
       "  </tbody>\n",
       "</table>\n",
       "<p>500 rows × 4 columns</p>\n",
       "</div>"
      ],
      "text/plain": [
       "     zipcode   mars1   MARS2  NUMDEP\n",
       "0          0  477700  105350  491310\n",
       "1          0  211930  142340  360480\n",
       "2          0   83420  137870  182880\n",
       "3          0   29420  124060  130160\n",
       "4          0   20240  188080  195990\n",
       "..       ...     ...     ...     ...\n",
       "495    35176       0      20      30\n",
       "496    35176       0      20       0\n",
       "497    35176       0       0       0\n",
       "498    35178     330     100     320\n",
       "499    35178     150     120     250\n",
       "\n",
       "[500 rows x 4 columns]"
      ]
     },
     "execution_count": 5,
     "metadata": {},
     "output_type": "execute_result"
    }
   ],
   "source": [
    "tax_primeiras500"
   ]
  },
  {
   "cell_type": "code",
   "execution_count": 6,
   "id": "933d2ee6",
   "metadata": {},
   "outputs": [],
   "source": [
    "tax_proximas500 = tax_filtered.loc[500:1000,:]\n"
   ]
  },
  {
   "cell_type": "code",
   "execution_count": 7,
   "metadata": {},
   "outputs": [
    {
     "data": {
      "text/html": [
       "<div>\n",
       "<style scoped>\n",
       "    .dataframe tbody tr th:only-of-type {\n",
       "        vertical-align: middle;\n",
       "    }\n",
       "\n",
       "    .dataframe tbody tr th {\n",
       "        vertical-align: top;\n",
       "    }\n",
       "\n",
       "    .dataframe thead th {\n",
       "        text-align: right;\n",
       "    }\n",
       "</style>\n",
       "<table border=\"1\" class=\"dataframe\">\n",
       "  <thead>\n",
       "    <tr style=\"text-align: right;\">\n",
       "      <th></th>\n",
       "      <th>zipcode</th>\n",
       "      <th>mars1</th>\n",
       "      <th>MARS2</th>\n",
       "      <th>NUMDEP</th>\n",
       "    </tr>\n",
       "  </thead>\n",
       "  <tbody>\n",
       "    <tr>\n",
       "      <th>500</th>\n",
       "      <td>35178</td>\n",
       "      <td>60</td>\n",
       "      <td>120</td>\n",
       "      <td>200</td>\n",
       "    </tr>\n",
       "    <tr>\n",
       "      <th>501</th>\n",
       "      <td>35178</td>\n",
       "      <td>30</td>\n",
       "      <td>90</td>\n",
       "      <td>80</td>\n",
       "    </tr>\n",
       "    <tr>\n",
       "      <th>502</th>\n",
       "      <td>35178</td>\n",
       "      <td>0</td>\n",
       "      <td>90</td>\n",
       "      <td>90</td>\n",
       "    </tr>\n",
       "    <tr>\n",
       "      <th>503</th>\n",
       "      <td>35178</td>\n",
       "      <td>0</td>\n",
       "      <td>20</td>\n",
       "      <td>0</td>\n",
       "    </tr>\n",
       "    <tr>\n",
       "      <th>504</th>\n",
       "      <td>35179</td>\n",
       "      <td>860</td>\n",
       "      <td>320</td>\n",
       "      <td>670</td>\n",
       "    </tr>\n",
       "    <tr>\n",
       "      <th>...</th>\n",
       "      <td>...</td>\n",
       "      <td>...</td>\n",
       "      <td>...</td>\n",
       "      <td>...</td>\n",
       "    </tr>\n",
       "    <tr>\n",
       "      <th>996</th>\n",
       "      <td>35565</td>\n",
       "      <td>1200</td>\n",
       "      <td>520</td>\n",
       "      <td>1340</td>\n",
       "    </tr>\n",
       "    <tr>\n",
       "      <th>997</th>\n",
       "      <td>35565</td>\n",
       "      <td>430</td>\n",
       "      <td>600</td>\n",
       "      <td>1040</td>\n",
       "    </tr>\n",
       "    <tr>\n",
       "      <th>998</th>\n",
       "      <td>35565</td>\n",
       "      <td>110</td>\n",
       "      <td>470</td>\n",
       "      <td>540</td>\n",
       "    </tr>\n",
       "    <tr>\n",
       "      <th>999</th>\n",
       "      <td>35565</td>\n",
       "      <td>0</td>\n",
       "      <td>250</td>\n",
       "      <td>280</td>\n",
       "    </tr>\n",
       "    <tr>\n",
       "      <th>1000</th>\n",
       "      <td>35565</td>\n",
       "      <td>30</td>\n",
       "      <td>220</td>\n",
       "      <td>230</td>\n",
       "    </tr>\n",
       "  </tbody>\n",
       "</table>\n",
       "<p>501 rows × 4 columns</p>\n",
       "</div>"
      ],
      "text/plain": [
       "      zipcode  mars1  MARS2  NUMDEP\n",
       "500     35178     60    120     200\n",
       "501     35178     30     90      80\n",
       "502     35178      0     90      90\n",
       "503     35178      0     20       0\n",
       "504     35179    860    320     670\n",
       "...       ...    ...    ...     ...\n",
       "996     35565   1200    520    1340\n",
       "997     35565    430    600    1040\n",
       "998     35565    110    470     540\n",
       "999     35565      0    250     280\n",
       "1000    35565     30    220     230\n",
       "\n",
       "[501 rows x 4 columns]"
      ]
     },
     "execution_count": 7,
     "metadata": {},
     "output_type": "execute_result"
    }
   ],
   "source": [
    "tax_proximas500"
   ]
  },
  {
   "cell_type": "markdown",
   "id": "594f19ab",
   "metadata": {},
   "source": [
    "3. Carregue o arquivo tax_data_2016.csv, visualize o atributo dtypes do dataframe e observe os tipos de dados de CEP e agi_stub.\n",
    "\n"
   ]
  },
  {
   "cell_type": "code",
   "execution_count": 8,
   "id": "1b22a58d",
   "metadata": {},
   "outputs": [
    {
     "data": {
      "text/plain": [
       "STATEFIPS     int64\n",
       "STATE        object\n",
       "zipcode       int64\n",
       "agi_stub      int64\n",
       "N1            int64\n",
       "              ...  \n",
       "A85300        int64\n",
       "N11901        int64\n",
       "A11901        int64\n",
       "N11902        int64\n",
       "A11902        int64\n",
       "Length: 147, dtype: object"
      ]
     },
     "execution_count": 8,
     "metadata": {},
     "output_type": "execute_result"
    }
   ],
   "source": [
    "path='dados/atividade1/us_tax_data_2016.csv'\n",
    "df_tax = pd.read_csv(path,encoding=\"ansi\")\n",
    "\n",
    "df_tax.dtypes"
   ]
  },
  {
   "cell_type": "code",
   "execution_count": null,
   "id": "6e320114",
   "metadata": {},
   "outputs": [],
   "source": [
    "df_tax"
   ]
  },
  {
   "cell_type": "code",
   "execution_count": 68,
   "id": "9bfe2bfb",
   "metadata": {},
   "outputs": [
    {
     "data": {
      "text/plain": [
       "0"
      ]
     },
     "execution_count": 68,
     "metadata": {},
     "output_type": "execute_result"
    }
   ],
   "source": [
    "\n",
    "df_tax['zipcode'][0]"
   ]
  },
  {
   "cell_type": "code",
   "execution_count": 69,
   "id": "a414e878",
   "metadata": {},
   "outputs": [
    {
     "data": {
      "text/plain": [
       "1"
      ]
     },
     "execution_count": 69,
     "metadata": {},
     "output_type": "execute_result"
    }
   ],
   "source": [
    "df_tax['agi_stub'][0]"
   ]
  },
  {
   "attachments": {},
   "cell_type": "markdown",
   "id": "ac535591",
   "metadata": {},
   "source": [
    "4. Você deve ter observado que a coluna agi_stub contém números que correspondem a categorias de renda, e CEP tem valores de 5 dígitos que devem ser strings -- tratá-los como inteiros significa que perdemos 0s iniciais, que são significativos. \n",
    "Defina os tipos de dados corretos criando um dicionario chamado null_values, especificando que 0s na coluna CEP devem ser considerados valores NA.\n",
    "Depois, carregue tax_data_2016.csv, usando o argumento na_values e o dicionário para garantir que CEPs inválidos sejam tratados como ausentes.\n"
   ]
  },
  {
   "cell_type": "code",
   "execution_count": null,
   "id": "2ef5c533",
   "metadata": {},
   "outputs": [],
   "source": [
    "path='dados/atividade1/us_tax_data_2016.csv'\n",
    "null_values = pd.read_csv(path,dtype= {\"zipcode\":str},na_values={\"zipcode\":[0, 'NA']})\n",
    "null_values"
   ]
  },
  {
   "cell_type": "markdown",
   "id": "7bed8679",
   "metadata": {},
   "source": [
    "5. Leia o arquivo fcc_survey.xlsx, atribua-o à variável survey_responses e imprima os primeiros registros de survey_responses."
   ]
  },
  {
   "cell_type": "code",
   "execution_count": 9,
   "id": "94042939",
   "metadata": {},
   "outputs": [
    {
     "name": "stdout",
     "output_type": "stream",
     "text": [
      "Requirement already satisfied: openpyxl in c:\\users\\rafae\\appdata\\local\\programs\\python\\python311\\lib\\site-packages (3.1.2)\n",
      "Requirement already satisfied: et-xmlfile in c:\\users\\rafae\\appdata\\local\\programs\\python\\python311\\lib\\site-packages (from openpyxl) (1.1.0)\n",
      "Note: you may need to restart the kernel to use updated packages.\n"
     ]
    }
   ],
   "source": [
    "%pip install openpyxl\n",
    "\n",
    "import pandas as pd "
   ]
  },
  {
   "cell_type": "code",
   "execution_count": null,
   "id": "39619b21",
   "metadata": {},
   "outputs": [],
   "source": [
    "path_xlsx = 'dados/aula3/fcc_survey.xlsx'\n",
    "survey_responses = pd.read_excel(path_xlsx)\n",
    "survey_responses.head()"
   ]
  },
  {
   "attachments": {},
   "cell_type": "markdown",
   "id": "4a54eb41",
   "metadata": {},
   "source": [
    "6. Crie uma string chamada col_string, especificando que os pandas devem carregar a coluna AD e o intervalo AW até BA.\n",
    "Carregue fcc_survey.xlsx, definindo ``skiprows`` e ``usecols`` para ignorar as duas primeiras linhas e obter apenas as colunas em col_string. Visualize os nomes das colunas selecionadas no dataframe resultante."
   ]
  },
  {
   "cell_type": "code",
   "execution_count": null,
   "id": "fec49abb",
   "metadata": {},
   "outputs": [],
   "source": [
    "col_string = \"AD, AW:BA\"\n",
    "\n",
    "survey = pd.read_excel(path_xlsx,\n",
    "                       skiprows=2,\n",
    "                       usecols=col_string,\n",
    "                       header=None\n",
    "                       )\n",
    "\n",
    "survey.head()"
   ]
  },
  {
   "cell_type": "code",
   "execution_count": 92,
   "id": "46c9405c",
   "metadata": {},
   "outputs": [
    {
     "data": {
      "text/plain": [
       "Int64Index([29, 48, 49, 50, 51, 52], dtype='int64')"
      ]
     },
     "execution_count": 92,
     "metadata": {},
     "output_type": "execute_result"
    }
   ],
   "source": [
    "survey.keys()"
   ]
  },
  {
   "attachments": {},
   "cell_type": "markdown",
   "id": "38dfd251",
   "metadata": {},
   "source": [
    "7. Crie um dataframe a partir do arquivo `fcc_survey.xlsx` passando a posição da segunda aba para ``sheet_name``."
   ]
  },
  {
   "cell_type": "code",
   "execution_count": null,
   "id": "84f3ce49",
   "metadata": {},
   "outputs": [],
   "source": [
    "col_string = \"AD, AW:BA\"\n",
    "\n",
    "survey = pd.read_excel(path_xlsx,\n",
    "                       skiprows=2,\n",
    "                       usecols=col_string,\n",
    "                       header=None,\n",
    "                       sheet_name=1\n",
    "                       )\n",
    "\n",
    "survey.head()"
   ]
  },
  {
   "attachments": {},
   "cell_type": "markdown",
   "id": "8f9582c5",
   "metadata": {},
   "source": [
    "8. Carregue as planilhas de 2016 e 2017 por nome em variáveis separadas. Calcule a média da coluna Age para as diferentes abas do arquivo."
   ]
  },
  {
   "cell_type": "code",
   "execution_count": 107,
   "id": "e15b44f3",
   "metadata": {},
   "outputs": [],
   "source": [
    "path_xlsx_ = 'dados/aula3/fcc_survey.xlsx'\n",
    "\n",
    "df_2016_data = pd.read_excel(path_xlsx_,sheet_name=0)\n",
    "\n",
    "df_2017_data = pd.read_excel(path_xlsx_, sheet_name=1)"
   ]
  },
  {
   "cell_type": "code",
   "execution_count": 132,
   "id": "d4ccb1a2",
   "metadata": {},
   "outputs": [
    {
     "data": {
      "text/plain": [
       "Age    29.175421\n",
       "dtype: float64"
      ]
     },
     "execution_count": 132,
     "metadata": {},
     "output_type": "execute_result"
    }
   ],
   "source": [
    "df_2016_loc=df_2016_data.loc[:, ['Age']]\n",
    "df_2016_loc.mean()"
   ]
  },
  {
   "cell_type": "code",
   "execution_count": 134,
   "id": "605cf263",
   "metadata": {},
   "outputs": [
    {
     "data": {
      "text/plain": [
       "count     1.000000\n",
       "mean     27.691872\n",
       "std            NaN\n",
       "min      27.691872\n",
       "25%      27.691872\n",
       "50%      27.691872\n",
       "75%      27.691872\n",
       "max      27.691872\n",
       "dtype: float64"
      ]
     },
     "execution_count": 134,
     "metadata": {},
     "output_type": "execute_result"
    }
   ],
   "source": [
    "df_2017_loc=df_2017_data.loc[:, ['Age']]\n",
    "df_2017_loc.mean()"
   ]
  },
  {
   "attachments": {},
   "cell_type": "markdown",
   "id": "13f250a6",
   "metadata": {},
   "source": [
    "9. Concatene as diferentes abas do arquivo `fcc_survey.xlsx` em apenas um dataframe. Calcule a média da coluna Age para a concatenação das abas do arquivo."
   ]
  },
  {
   "cell_type": "code",
   "execution_count": 146,
   "id": "6b650202",
   "metadata": {},
   "outputs": [
    {
     "data": {
      "text/plain": [
       "Age    26.013141\n",
       "dtype: float64"
      ]
     },
     "execution_count": 146,
     "metadata": {},
     "output_type": "execute_result"
    }
   ],
   "source": [
    "merged_df = pd.merge(df_2016_loc,df_2017_loc)\n",
    "merged_df.mean()"
   ]
  },
  {
   "attachments": {},
   "cell_type": "markdown",
   "id": "861ad4f3",
   "metadata": {},
   "source": [
    "10.  Utilizando uma query em SQL e o banco `sqlite-sakila.db` retorne as cidades e os países, mas apenas os países que começem com a letra **B**."
   ]
  },
  {
   "cell_type": "code",
   "execution_count": 167,
   "id": "0bf19b5f",
   "metadata": {},
   "outputs": [],
   "source": [
    "from sqlalchemy import create_engine\n",
    "from sqlalchemy import inspect\n",
    "\n",
    "engine = create_engine('sqlite:///dados/aula3/sqlite-sakila.db')\n",
    "insp = inspect(engine)"
   ]
  },
  {
   "cell_type": "code",
   "execution_count": null,
   "id": "fd837a1d",
   "metadata": {},
   "outputs": [],
   "source": [
    "\n",
    "# sql_query ='''\n",
    "#         select co.country, c.city from country co inner join city c on c.country_id=co.country_id\n",
    "#     '''\n",
    "\n",
    "\n",
    "# sql_query ='''\n",
    "#         select * from country co inner join city c on c.country_id=co.country_id \n",
    "#     '''\n",
    "\n",
    "sql_query ='''\n",
    "        select co.country, c.city from country co inner join city c on c.country_id=co.country_id\n",
    "    '''\n",
    "\n",
    "df_inner_sqlstyle_city_country = pd.read_sql_query(sql_query, engine)\n",
    "df_inner_sqlstyle_city_country.describe()"
   ]
  },
  {
   "cell_type": "code",
   "execution_count": null,
   "id": "8f6b4a17",
   "metadata": {},
   "outputs": [],
   "source": [
    "# df_harmonized = df_inner_city_country[['country','city']]\n",
    "# df_harmonized.head()\n",
    "\n",
    "df_inner_city_country = pd.merge(country_df,city_df,how='inner',on='country_id')\n",
    "df_inner_city_country.describe()\n"
   ]
  }
 ],
 "metadata": {
  "kernelspec": {
   "display_name": "Python 3",
   "language": "python",
   "name": "python3"
  },
  "language_info": {
   "codemirror_mode": {
    "name": "ipython",
    "version": 3
   },
   "file_extension": ".py",
   "mimetype": "text/x-python",
   "name": "python",
   "nbconvert_exporter": "python",
   "pygments_lexer": "ipython3",
   "version": "3.11.0"
  }
 },
 "nbformat": 4,
 "nbformat_minor": 5
}
