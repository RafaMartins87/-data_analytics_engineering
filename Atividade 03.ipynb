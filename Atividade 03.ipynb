{
 "cells": [
  {
   "cell_type": "code",
   "execution_count": null,
   "metadata": {},
   "outputs": [],
   "source": [
    "!pip install dbt-core"
   ]
  },
  {
   "cell_type": "code",
   "execution_count": null,
   "metadata": {},
   "outputs": [],
   "source": [
    "!pip install dbt-bigquery"
   ]
  },
  {
   "cell_type": "code",
   "execution_count": null,
   "metadata": {},
   "outputs": [],
   "source": [
    "!dbt --version"
   ]
  },
  {
   "attachments": {},
   "cell_type": "markdown",
   "metadata": {},
   "source": [
    "# Imagens + Query SQL"
   ]
  },
  {
   "attachments": {},
   "cell_type": "markdown",
   "metadata": {},
   "source": [
    "![ex.1](/images/1-orders-by-year.png) "
   ]
  },
  {
   "cell_type": "code",
   "execution_count": null,
   "metadata": {
    "vscode": {
     "languageId": "sql"
    }
   },
   "outputs": [],
   "source": [
    "{{ config(materialized='table') }}\n",
    "\n",
    "SELECT\n",
    "    EXTRACT(YEAR FROM DATE(order_approved_at)) as year_order,\n",
    "    count(EXTRACT(YEAR FROM DATE(order_approved_at))) AS num_orders \n",
    "FROM \n",
    "    `dbt_shop.orders`\n",
    "WHERE EXTRACT(YEAR FROM DATE(order_approved_at)) is not null\n",
    "GROUP BY 1"
   ]
  },
  {
   "attachments": {},
   "cell_type": "markdown",
   "metadata": {},
   "source": [
    "![ex.2](/images/2-orders-by-state.png)"
   ]
  },
  {
   "cell_type": "code",
   "execution_count": null,
   "metadata": {
    "vscode": {
     "languageId": "sql"
    }
   },
   "outputs": [],
   "source": [
    "SELECT\n",
    "    c.customer_state,\n",
    "    count(EXTRACT(YEAR FROM DATE(o.order_approved_at))) AS num_orders \n",
    "FROM \n",
    "    `dbt_shop.orders` as o inner join `dbt_shop.customers`as c on o.customer_id = c.customer_id\n",
    "\n",
    "WHERE \n",
    "    EXTRACT(YEAR FROM DATE(o.order_approved_at)) is not null\n",
    "GROUP BY 1"
   ]
  },
  {
   "attachments": {},
   "cell_type": "markdown",
   "metadata": {},
   "source": [
    "![ex.3](/images/3-orders-by-state-greater-5k.png)"
   ]
  },
  {
   "cell_type": "code",
   "execution_count": null,
   "metadata": {
    "vscode": {
     "languageId": "sql"
    }
   },
   "outputs": [],
   "source": [
    "SELECT * FROM (SELECT\n",
    "    c.customer_state,\n",
    "    IF(\n",
    "        count(EXTRACT(YEAR FROM DATE(o.order_approved_at)))>{{ var(\"quantity_orders\") }},\n",
    "        count(EXTRACT(YEAR FROM DATE(o.order_approved_at))),\n",
    "        NULL\n",
    "        ) AS num_orders \n",
    "FROM \n",
    "    `dbt_shop.orders` as o inner join `dbt_shop.customers`as c on o.customer_id = c.customer_id\n",
    "\n",
    "WHERE \n",
    "    EXTRACT(YEAR FROM DATE(o.order_approved_at)) is not null\n",
    "GROUP BY 1) as TB_AUX\n",
    "WHERE num_orders IS NOT NULL"
   ]
  },
  {
   "attachments": {},
   "cell_type": "markdown",
   "metadata": {},
   "source": [
    "![ex.4](/images/4-customers-by-region.png)"
   ]
  },
  {
   "cell_type": "code",
   "execution_count": null,
   "metadata": {
    "vscode": {
     "languageId": "sql"
    }
   },
   "outputs": [],
   "source": [
    "SELECT\n",
    "    CASE \n",
    "        WHEN customer_state IN ('SP','RJ','MG','ES') THEN 'SUDESTE'\n",
    "        WHEN customer_state IN ('PR','SC','RS') THEN 'SUL'\n",
    "        WHEN customer_state IN ('MS','GO','MT','DF') THEN 'CENTRO-OESTE'\n",
    "        WHEN customer_state IN ('BA','PI','MA','CE','RN','PB','PE','AL','SE') THEN 'NORDESTE'\n",
    "        WHEN customer_state IN ('AC','RO','AM','RR','PA','TO','AP') THEN 'NORTE'\n",
    "        ELSE 'NULL' END AS REGIAO,\n",
    "        count(EXTRACT(YEAR FROM DATE(o.order_approved_at))) AS num_orders\n",
    "FROM      \n",
    "    `dbt_shop.orders` as o inner join `dbt_shop.customers`as c on o.customer_id = c.customer_id\n",
    "WHERE\n",
    "    EXTRACT(YEAR FROM DATE(o.order_approved_at)) is not null\n",
    "GROUP BY 1"
   ]
  },
  {
   "attachments": {},
   "cell_type": "markdown",
   "metadata": {},
   "source": [
    "![ex.5](/images/5-items-costs.png)"
   ]
  },
  {
   "cell_type": "code",
   "execution_count": null,
   "metadata": {
    "vscode": {
     "languageId": "sql"
    }
   },
   "outputs": [],
   "source": [
    "{{ config(materialized='table') }}\n",
    "\n",
    "SELECT \n",
    "    DISTINCT product_id as item,\n",
    "    (price + freight_value) as valor\n",
    "FROM \n",
    "    `dbt_shop.items`"
   ]
  },
  {
   "attachments": {},
   "cell_type": "markdown",
   "metadata": {},
   "source": [
    "![ex 6](/images/6-orders-shipped-costs.png)"
   ]
  },
  {
   "cell_type": "code",
   "execution_count": null,
   "metadata": {
    "vscode": {
     "languageId": "sql"
    }
   },
   "outputs": [],
   "source": [
    "SELECT \n",
    "    DISTINCT i.order_id,\n",
    "    (i.price + i.freight_value) as valor\n",
    "FROM\n",
    "    `dbt_shop.items` i inner join `dbt_shop.orders` o on i.order_id = o.order_id\n",
    "WHERE o.order_status = 'shipped'"
   ]
  },
  {
   "attachments": {},
   "cell_type": "markdown",
   "metadata": {},
   "source": [
    "# Comando dbt via terminal"
   ]
  },
  {
   "cell_type": "code",
   "execution_count": null,
   "metadata": {
    "vscode": {
     "languageId": "bat"
    }
   },
   "outputs": [],
   "source": [
    "dbt run --models shop.orders_by_year\n",
    "\n",
    "dbt run --models shop.orders_by_state\n",
    "\n",
    "dbt run --models shop.orders_by_state_greater_than_5k --vars \"{'quantity_orders':5000}\"\n",
    "\n",
    "dbt run --models shop.customers_by_region\n",
    "\n",
    "dbt run --models shop.items_costs\n",
    "\n",
    "dbt run --models shop.orders_shipped_costs"
   ]
  }
 ],
 "metadata": {
  "kernelspec": {
   "display_name": "Python 3",
   "language": "python",
   "name": "python3"
  },
  "language_info": {
   "codemirror_mode": {
    "name": "ipython",
    "version": 3
   },
   "file_extension": ".py",
   "mimetype": "text/x-python",
   "name": "python",
   "nbconvert_exporter": "python",
   "pygments_lexer": "ipython3",
   "version": "3.11.0"
  },
  "orig_nbformat": 4
 },
 "nbformat": 4,
 "nbformat_minor": 2
}
