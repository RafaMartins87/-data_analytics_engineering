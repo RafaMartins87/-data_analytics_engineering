{
 "cells": [
  {
   "cell_type": "code",
   "execution_count": 1,
   "metadata": {},
   "outputs": [
    {
     "name": "stdout",
     "output_type": "stream",
     "text": [
      "Requirement already satisfied: dbt-core in c:\\users\\rafae\\appdata\\local\\programs\\python\\python311\\lib\\site-packages (1.4.6)\n",
      "Requirement already satisfied: Jinja2==3.1.2 in c:\\users\\rafae\\appdata\\local\\programs\\python\\python311\\lib\\site-packages (from dbt-core) (3.1.2)\n",
      "Requirement already satisfied: agate<1.7.1,>=1.6 in c:\\users\\rafae\\appdata\\local\\programs\\python\\python311\\lib\\site-packages (from dbt-core) (1.6.3)\n",
      "Requirement already satisfied: betterproto==1.2.5 in c:\\users\\rafae\\appdata\\local\\programs\\python\\python311\\lib\\site-packages (from dbt-core) (1.2.5)\n",
      "Requirement already satisfied: click<9,>=7.0 in c:\\users\\rafae\\appdata\\local\\programs\\python\\python311\\lib\\site-packages (from dbt-core) (8.1.3)\n",
      "Requirement already satisfied: colorama<0.4.7,>=0.3.9 in c:\\users\\rafae\\appdata\\local\\programs\\python\\python311\\lib\\site-packages (from dbt-core) (0.4.6)\n",
      "Requirement already satisfied: hologram<=0.0.16,>=0.0.14 in c:\\users\\rafae\\appdata\\local\\programs\\python\\python311\\lib\\site-packages (from dbt-core) (0.0.16)\n",
      "Requirement already satisfied: isodate<0.7,>=0.6 in c:\\users\\rafae\\appdata\\local\\programs\\python\\python311\\lib\\site-packages (from dbt-core) (0.6.1)\n",
      "Requirement already satisfied: logbook<1.6,>=1.5 in c:\\users\\rafae\\appdata\\local\\programs\\python\\python311\\lib\\site-packages (from dbt-core) (1.5.3)\n",
      "Requirement already satisfied: mashumaro[msgpack]==3.3.1 in c:\\users\\rafae\\appdata\\local\\programs\\python\\python311\\lib\\site-packages (from dbt-core) (3.3.1)\n",
      "Requirement already satisfied: minimal-snowplow-tracker==0.0.2 in c:\\users\\rafae\\appdata\\local\\programs\\python\\python311\\lib\\site-packages (from dbt-core) (0.0.2)\n",
      "Requirement already satisfied: packaging>20.9 in c:\\users\\rafae\\appdata\\local\\programs\\python\\python311\\lib\\site-packages (from dbt-core) (23.0)\n",
      "Requirement already satisfied: sqlparse<0.4.4,>=0.2.3 in c:\\users\\rafae\\appdata\\local\\programs\\python\\python311\\lib\\site-packages (from dbt-core) (0.4.3)\n",
      "Requirement already satisfied: dbt-extractor~=0.4.1 in c:\\users\\rafae\\appdata\\local\\programs\\python\\python311\\lib\\site-packages (from dbt-core) (0.4.1)\n",
      "Requirement already satisfied: typing-extensions>=3.7.4 in c:\\users\\rafae\\appdata\\local\\programs\\python\\python311\\lib\\site-packages (from dbt-core) (4.5.0)\n",
      "Requirement already satisfied: werkzeug<3,>=1 in c:\\users\\rafae\\appdata\\local\\programs\\python\\python311\\lib\\site-packages (from dbt-core) (2.2.2)\n",
      "Requirement already satisfied: pathspec<0.11,>=0.9 in c:\\users\\rafae\\appdata\\local\\programs\\python\\python311\\lib\\site-packages (from dbt-core) (0.10.3)\n",
      "Requirement already satisfied: pytz>=2015.7 in c:\\users\\rafae\\appdata\\local\\programs\\python\\python311\\lib\\site-packages (from dbt-core) (2022.7.1)\n",
      "Requirement already satisfied: requests<3.0.0 in c:\\users\\rafae\\appdata\\local\\programs\\python\\python311\\lib\\site-packages (from dbt-core) (2.28.2)\n",
      "Requirement already satisfied: idna<4,>=2.5 in c:\\users\\rafae\\appdata\\local\\programs\\python\\python311\\lib\\site-packages (from dbt-core) (3.4)\n",
      "Requirement already satisfied: cffi<2.0.0,>=1.9 in c:\\users\\rafae\\appdata\\local\\programs\\python\\python311\\lib\\site-packages (from dbt-core) (1.15.1)\n",
      "Requirement already satisfied: pyyaml>=6.0 in c:\\users\\rafae\\appdata\\local\\programs\\python\\python311\\lib\\site-packages (from dbt-core) (6.0)\n",
      "Requirement already satisfied: networkx<3,>=2.3 in c:\\users\\rafae\\appdata\\local\\programs\\python\\python311\\lib\\site-packages (from dbt-core) (2.8.8)\n",
      "Requirement already satisfied: grpclib in c:\\users\\rafae\\appdata\\local\\programs\\python\\python311\\lib\\site-packages (from betterproto==1.2.5->dbt-core) (0.4.3)\n",
      "Requirement already satisfied: stringcase in c:\\users\\rafae\\appdata\\local\\programs\\python\\python311\\lib\\site-packages (from betterproto==1.2.5->dbt-core) (1.2.0)\n",
      "Requirement already satisfied: MarkupSafe>=2.0 in c:\\users\\rafae\\appdata\\local\\programs\\python\\python311\\lib\\site-packages (from Jinja2==3.1.2->dbt-core) (2.1.2)\n",
      "Requirement already satisfied: msgpack>=0.5.6 in c:\\users\\rafae\\appdata\\local\\programs\\python\\python311\\lib\\site-packages (from mashumaro[msgpack]==3.3.1->dbt-core) (1.0.5)\n",
      "Requirement already satisfied: six<2.0,>=1.9.0 in c:\\users\\rafae\\appdata\\local\\programs\\python\\python311\\lib\\site-packages (from minimal-snowplow-tracker==0.0.2->dbt-core) (1.16.0)\n",
      "Requirement already satisfied: Babel>=2.0 in c:\\users\\rafae\\appdata\\local\\programs\\python\\python311\\lib\\site-packages (from agate<1.7.1,>=1.6->dbt-core) (2.12.1)\n",
      "Requirement already satisfied: leather>=0.3.2 in c:\\users\\rafae\\appdata\\local\\programs\\python\\python311\\lib\\site-packages (from agate<1.7.1,>=1.6->dbt-core) (0.3.4)\n",
      "Requirement already satisfied: parsedatetime!=2.5,!=2.6,>=2.1 in c:\\users\\rafae\\appdata\\local\\programs\\python\\python311\\lib\\site-packages (from agate<1.7.1,>=1.6->dbt-core) (2.4)\n",
      "Requirement already satisfied: python-slugify>=1.2.1 in c:\\users\\rafae\\appdata\\local\\programs\\python\\python311\\lib\\site-packages (from agate<1.7.1,>=1.6->dbt-core) (8.0.1)\n",
      "Requirement already satisfied: pytimeparse>=1.1.5 in c:\\users\\rafae\\appdata\\local\\programs\\python\\python311\\lib\\site-packages (from agate<1.7.1,>=1.6->dbt-core) (1.1.8)\n",
      "Requirement already satisfied: pycparser in c:\\users\\rafae\\appdata\\local\\programs\\python\\python311\\lib\\site-packages (from cffi<2.0.0,>=1.9->dbt-core) (2.21)\n",
      "Requirement already satisfied: python-dateutil<2.9,>=2.8 in c:\\users\\rafae\\appdata\\local\\programs\\python\\python311\\lib\\site-packages (from hologram<=0.0.16,>=0.0.14->dbt-core) (2.8.2)\n",
      "Requirement already satisfied: jsonschema>=3.0 in c:\\users\\rafae\\appdata\\local\\programs\\python\\python311\\lib\\site-packages (from hologram<=0.0.16,>=0.0.14->dbt-core) (4.17.3)\n",
      "Requirement already satisfied: charset-normalizer<4,>=2 in c:\\users\\rafae\\appdata\\local\\programs\\python\\python311\\lib\\site-packages (from requests<3.0.0->dbt-core) (3.0.1)\n",
      "Requirement already satisfied: urllib3<1.27,>=1.21.1 in c:\\users\\rafae\\appdata\\local\\programs\\python\\python311\\lib\\site-packages (from requests<3.0.0->dbt-core) (1.26.14)\n",
      "Requirement already satisfied: certifi>=2017.4.17 in c:\\users\\rafae\\appdata\\local\\programs\\python\\python311\\lib\\site-packages (from requests<3.0.0->dbt-core) (2022.12.7)\n",
      "Requirement already satisfied: attrs>=17.4.0 in c:\\users\\rafae\\appdata\\local\\programs\\python\\python311\\lib\\site-packages (from jsonschema>=3.0->hologram<=0.0.16,>=0.0.14->dbt-core) (22.2.0)\n",
      "Requirement already satisfied: pyrsistent!=0.17.0,!=0.17.1,!=0.17.2,>=0.14.0 in c:\\users\\rafae\\appdata\\local\\programs\\python\\python311\\lib\\site-packages (from jsonschema>=3.0->hologram<=0.0.16,>=0.0.14->dbt-core) (0.19.3)\n",
      "Requirement already satisfied: future in c:\\users\\rafae\\appdata\\local\\programs\\python\\python311\\lib\\site-packages (from parsedatetime!=2.5,!=2.6,>=2.1->agate<1.7.1,>=1.6->dbt-core) (0.18.3)\n",
      "Requirement already satisfied: text-unidecode>=1.3 in c:\\users\\rafae\\appdata\\local\\programs\\python\\python311\\lib\\site-packages (from python-slugify>=1.2.1->agate<1.7.1,>=1.6->dbt-core) (1.3)\n",
      "Requirement already satisfied: h2<5,>=3.1.0 in c:\\users\\rafae\\appdata\\local\\programs\\python\\python311\\lib\\site-packages (from grpclib->betterproto==1.2.5->dbt-core) (4.1.0)\n",
      "Requirement already satisfied: multidict in c:\\users\\rafae\\appdata\\local\\programs\\python\\python311\\lib\\site-packages (from grpclib->betterproto==1.2.5->dbt-core) (6.0.4)\n",
      "Requirement already satisfied: hyperframe<7,>=6.0 in c:\\users\\rafae\\appdata\\local\\programs\\python\\python311\\lib\\site-packages (from h2<5,>=3.1.0->grpclib->betterproto==1.2.5->dbt-core) (6.0.1)\n",
      "Requirement already satisfied: hpack<5,>=4.0 in c:\\users\\rafae\\appdata\\local\\programs\\python\\python311\\lib\\site-packages (from h2<5,>=3.1.0->grpclib->betterproto==1.2.5->dbt-core) (4.0.0)\n"
     ]
    },
    {
     "name": "stderr",
     "output_type": "stream",
     "text": [
      "\n",
      "[notice] A new release of pip is available: 23.0.1 -> 23.1\n",
      "[notice] To update, run: python.exe -m pip install --upgrade pip\n"
     ]
    }
   ],
   "source": [
    "!pip install dbt-core"
   ]
  },
  {
   "cell_type": "code",
   "execution_count": 2,
   "metadata": {},
   "outputs": [
    {
     "name": "stdout",
     "output_type": "stream",
     "text": [
      "Requirement already satisfied: dbt-bigquery in c:\\users\\rafae\\appdata\\local\\programs\\python\\python311\\lib\\site-packages (1.4.3)\n",
      "Requirement already satisfied: dbt-core~=1.4.0 in c:\\users\\rafae\\appdata\\local\\programs\\python\\python311\\lib\\site-packages (from dbt-bigquery) (1.4.6)\n",
      "Requirement already satisfied: google-cloud-bigquery~=3.0 in c:\\users\\rafae\\appdata\\local\\programs\\python\\python311\\lib\\site-packages (from dbt-bigquery) (3.10.0)\n",
      "Requirement already satisfied: google-cloud-storage~=2.4 in c:\\users\\rafae\\appdata\\local\\programs\\python\\python311\\lib\\site-packages (from dbt-bigquery) (2.8.0)\n",
      "Requirement already satisfied: google-cloud-dataproc~=5.0 in c:\\users\\rafae\\appdata\\local\\programs\\python\\python311\\lib\\site-packages (from dbt-bigquery) (5.4.1)\n",
      "Requirement already satisfied: agate~=1.6.3 in c:\\users\\rafae\\appdata\\local\\programs\\python\\python311\\lib\\site-packages (from dbt-bigquery) (1.6.3)\n",
      "Requirement already satisfied: Babel>=2.0 in c:\\users\\rafae\\appdata\\local\\programs\\python\\python311\\lib\\site-packages (from agate~=1.6.3->dbt-bigquery) (2.12.1)\n",
      "Requirement already satisfied: isodate>=0.5.4 in c:\\users\\rafae\\appdata\\local\\programs\\python\\python311\\lib\\site-packages (from agate~=1.6.3->dbt-bigquery) (0.6.1)\n",
      "Requirement already satisfied: leather>=0.3.2 in c:\\users\\rafae\\appdata\\local\\programs\\python\\python311\\lib\\site-packages (from agate~=1.6.3->dbt-bigquery) (0.3.4)\n",
      "Requirement already satisfied: parsedatetime!=2.5,!=2.6,>=2.1 in c:\\users\\rafae\\appdata\\local\\programs\\python\\python311\\lib\\site-packages (from agate~=1.6.3->dbt-bigquery) (2.4)\n",
      "Requirement already satisfied: python-slugify>=1.2.1 in c:\\users\\rafae\\appdata\\local\\programs\\python\\python311\\lib\\site-packages (from agate~=1.6.3->dbt-bigquery) (8.0.1)\n",
      "Requirement already satisfied: pytimeparse>=1.1.5 in c:\\users\\rafae\\appdata\\local\\programs\\python\\python311\\lib\\site-packages (from agate~=1.6.3->dbt-bigquery) (1.1.8)\n",
      "Requirement already satisfied: six>=1.9.0 in c:\\users\\rafae\\appdata\\local\\programs\\python\\python311\\lib\\site-packages (from agate~=1.6.3->dbt-bigquery) (1.16.0)\n",
      "Requirement already satisfied: Jinja2==3.1.2 in c:\\users\\rafae\\appdata\\local\\programs\\python\\python311\\lib\\site-packages (from dbt-core~=1.4.0->dbt-bigquery) (3.1.2)\n",
      "Requirement already satisfied: betterproto==1.2.5 in c:\\users\\rafae\\appdata\\local\\programs\\python\\python311\\lib\\site-packages (from dbt-core~=1.4.0->dbt-bigquery) (1.2.5)\n",
      "Requirement already satisfied: click<9,>=7.0 in c:\\users\\rafae\\appdata\\local\\programs\\python\\python311\\lib\\site-packages (from dbt-core~=1.4.0->dbt-bigquery) (8.1.3)\n",
      "Requirement already satisfied: colorama<0.4.7,>=0.3.9 in c:\\users\\rafae\\appdata\\local\\programs\\python\\python311\\lib\\site-packages (from dbt-core~=1.4.0->dbt-bigquery) (0.4.6)\n",
      "Requirement already satisfied: hologram<=0.0.16,>=0.0.14 in c:\\users\\rafae\\appdata\\local\\programs\\python\\python311\\lib\\site-packages (from dbt-core~=1.4.0->dbt-bigquery) (0.0.16)\n",
      "Requirement already satisfied: logbook<1.6,>=1.5 in c:\\users\\rafae\\appdata\\local\\programs\\python\\python311\\lib\\site-packages (from dbt-core~=1.4.0->dbt-bigquery) (1.5.3)\n",
      "Requirement already satisfied: mashumaro[msgpack]==3.3.1 in c:\\users\\rafae\\appdata\\local\\programs\\python\\python311\\lib\\site-packages (from dbt-core~=1.4.0->dbt-bigquery) (3.3.1)\n",
      "Requirement already satisfied: minimal-snowplow-tracker==0.0.2 in c:\\users\\rafae\\appdata\\local\\programs\\python\\python311\\lib\\site-packages (from dbt-core~=1.4.0->dbt-bigquery) (0.0.2)\n",
      "Requirement already satisfied: packaging>20.9 in c:\\users\\rafae\\appdata\\local\\programs\\python\\python311\\lib\\site-packages (from dbt-core~=1.4.0->dbt-bigquery) (23.0)\n",
      "Requirement already satisfied: sqlparse<0.4.4,>=0.2.3 in c:\\users\\rafae\\appdata\\local\\programs\\python\\python311\\lib\\site-packages (from dbt-core~=1.4.0->dbt-bigquery) (0.4.3)\n",
      "Requirement already satisfied: dbt-extractor~=0.4.1 in c:\\users\\rafae\\appdata\\local\\programs\\python\\python311\\lib\\site-packages (from dbt-core~=1.4.0->dbt-bigquery) (0.4.1)\n",
      "Requirement already satisfied: typing-extensions>=3.7.4 in c:\\users\\rafae\\appdata\\local\\programs\\python\\python311\\lib\\site-packages (from dbt-core~=1.4.0->dbt-bigquery) (4.5.0)\n",
      "Requirement already satisfied: werkzeug<3,>=1 in c:\\users\\rafae\\appdata\\local\\programs\\python\\python311\\lib\\site-packages (from dbt-core~=1.4.0->dbt-bigquery) (2.2.2)\n",
      "Requirement already satisfied: pathspec<0.11,>=0.9 in c:\\users\\rafae\\appdata\\local\\programs\\python\\python311\\lib\\site-packages (from dbt-core~=1.4.0->dbt-bigquery) (0.10.3)\n",
      "Requirement already satisfied: pytz>=2015.7 in c:\\users\\rafae\\appdata\\local\\programs\\python\\python311\\lib\\site-packages (from dbt-core~=1.4.0->dbt-bigquery) (2022.7.1)\n",
      "Requirement already satisfied: requests<3.0.0 in c:\\users\\rafae\\appdata\\local\\programs\\python\\python311\\lib\\site-packages (from dbt-core~=1.4.0->dbt-bigquery) (2.28.2)\n",
      "Requirement already satisfied: idna<4,>=2.5 in c:\\users\\rafae\\appdata\\local\\programs\\python\\python311\\lib\\site-packages (from dbt-core~=1.4.0->dbt-bigquery) (3.4)\n",
      "Requirement already satisfied: cffi<2.0.0,>=1.9 in c:\\users\\rafae\\appdata\\local\\programs\\python\\python311\\lib\\site-packages (from dbt-core~=1.4.0->dbt-bigquery) (1.15.1)\n",
      "Requirement already satisfied: pyyaml>=6.0 in c:\\users\\rafae\\appdata\\local\\programs\\python\\python311\\lib\\site-packages (from dbt-core~=1.4.0->dbt-bigquery) (6.0)\n",
      "Requirement already satisfied: networkx<3,>=2.3 in c:\\users\\rafae\\appdata\\local\\programs\\python\\python311\\lib\\site-packages (from dbt-core~=1.4.0->dbt-bigquery) (2.8.8)\n",
      "Requirement already satisfied: grpclib in c:\\users\\rafae\\appdata\\local\\programs\\python\\python311\\lib\\site-packages (from betterproto==1.2.5->dbt-core~=1.4.0->dbt-bigquery) (0.4.3)\n",
      "Requirement already satisfied: stringcase in c:\\users\\rafae\\appdata\\local\\programs\\python\\python311\\lib\\site-packages (from betterproto==1.2.5->dbt-core~=1.4.0->dbt-bigquery) (1.2.0)\n",
      "Requirement already satisfied: MarkupSafe>=2.0 in c:\\users\\rafae\\appdata\\local\\programs\\python\\python311\\lib\\site-packages (from Jinja2==3.1.2->dbt-core~=1.4.0->dbt-bigquery) (2.1.2)\n",
      "Requirement already satisfied: msgpack>=0.5.6 in c:\\users\\rafae\\appdata\\local\\programs\\python\\python311\\lib\\site-packages (from mashumaro[msgpack]==3.3.1->dbt-core~=1.4.0->dbt-bigquery) (1.0.5)\n",
      "Requirement already satisfied: grpcio<2.0dev,>=1.47.0 in c:\\users\\rafae\\appdata\\local\\programs\\python\\python311\\lib\\site-packages (from google-cloud-bigquery~=3.0->dbt-bigquery) (1.54.0)\n",
      "Requirement already satisfied: google-api-core[grpc]!=2.0.*,!=2.1.*,!=2.2.*,!=2.3.0,<3.0.0dev,>=1.31.5 in c:\\users\\rafae\\appdata\\local\\programs\\python\\python311\\lib\\site-packages (from google-cloud-bigquery~=3.0->dbt-bigquery) (2.11.0)\n",
      "Requirement already satisfied: proto-plus<2.0.0dev,>=1.15.0 in c:\\users\\rafae\\appdata\\local\\programs\\python\\python311\\lib\\site-packages (from google-cloud-bigquery~=3.0->dbt-bigquery) (1.22.2)\n",
      "Requirement already satisfied: google-cloud-core<3.0.0dev,>=1.6.0 in c:\\users\\rafae\\appdata\\local\\programs\\python\\python311\\lib\\site-packages (from google-cloud-bigquery~=3.0->dbt-bigquery) (2.3.2)\n",
      "Requirement already satisfied: google-resumable-media<3.0dev,>=0.6.0 in c:\\users\\rafae\\appdata\\local\\programs\\python\\python311\\lib\\site-packages (from google-cloud-bigquery~=3.0->dbt-bigquery) (2.4.1)\n",
      "Requirement already satisfied: protobuf!=3.20.0,!=3.20.1,!=4.21.0,!=4.21.1,!=4.21.2,!=4.21.3,!=4.21.4,!=4.21.5,<5.0.0dev,>=3.19.5 in c:\\users\\rafae\\appdata\\local\\programs\\python\\python311\\lib\\site-packages (from google-cloud-bigquery~=3.0->dbt-bigquery) (4.22.0)\n",
      "Requirement already satisfied: python-dateutil<3.0dev,>=2.7.2 in c:\\users\\rafae\\appdata\\local\\programs\\python\\python311\\lib\\site-packages (from google-cloud-bigquery~=3.0->dbt-bigquery) (2.8.2)\n",
      "Requirement already satisfied: grpc-google-iam-v1<1.0.0dev,>=0.12.4 in c:\\users\\rafae\\appdata\\local\\programs\\python\\python311\\lib\\site-packages (from google-cloud-dataproc~=5.0->dbt-bigquery) (0.12.6)\n",
      "Requirement already satisfied: google-auth<3.0dev,>=1.25.0 in c:\\users\\rafae\\appdata\\local\\programs\\python\\python311\\lib\\site-packages (from google-cloud-storage~=2.4->dbt-bigquery) (2.16.1)\n",
      "Requirement already satisfied: pycparser in c:\\users\\rafae\\appdata\\local\\programs\\python\\python311\\lib\\site-packages (from cffi<2.0.0,>=1.9->dbt-core~=1.4.0->dbt-bigquery) (2.21)\n",
      "Requirement already satisfied: googleapis-common-protos<2.0dev,>=1.56.2 in c:\\users\\rafae\\appdata\\local\\programs\\python\\python311\\lib\\site-packages (from google-api-core[grpc]!=2.0.*,!=2.1.*,!=2.2.*,!=2.3.0,<3.0.0dev,>=1.31.5->google-cloud-bigquery~=3.0->dbt-bigquery) (1.58.0)\n",
      "Requirement already satisfied: grpcio-status<2.0dev,>=1.33.2 in c:\\users\\rafae\\appdata\\local\\programs\\python\\python311\\lib\\site-packages (from google-api-core[grpc]!=2.0.*,!=2.1.*,!=2.2.*,!=2.3.0,<3.0.0dev,>=1.31.5->google-cloud-bigquery~=3.0->dbt-bigquery) (1.54.0)\n",
      "Requirement already satisfied: cachetools<6.0,>=2.0.0 in c:\\users\\rafae\\appdata\\local\\programs\\python\\python311\\lib\\site-packages (from google-auth<3.0dev,>=1.25.0->google-cloud-storage~=2.4->dbt-bigquery) (5.3.0)\n",
      "Requirement already satisfied: pyasn1-modules>=0.2.1 in c:\\users\\rafae\\appdata\\local\\programs\\python\\python311\\lib\\site-packages (from google-auth<3.0dev,>=1.25.0->google-cloud-storage~=2.4->dbt-bigquery) (0.2.8)\n",
      "Requirement already satisfied: rsa<5,>=3.1.4 in c:\\users\\rafae\\appdata\\local\\programs\\python\\python311\\lib\\site-packages (from google-auth<3.0dev,>=1.25.0->google-cloud-storage~=2.4->dbt-bigquery) (4.9)\n",
      "Requirement already satisfied: google-crc32c<2.0dev,>=1.0 in c:\\users\\rafae\\appdata\\local\\programs\\python\\python311\\lib\\site-packages (from google-resumable-media<3.0dev,>=0.6.0->google-cloud-bigquery~=3.0->dbt-bigquery) (1.5.0)\n",
      "Requirement already satisfied: jsonschema>=3.0 in c:\\users\\rafae\\appdata\\local\\programs\\python\\python311\\lib\\site-packages (from hologram<=0.0.16,>=0.0.14->dbt-core~=1.4.0->dbt-bigquery) (4.17.3)\n",
      "Requirement already satisfied: future in c:\\users\\rafae\\appdata\\local\\programs\\python\\python311\\lib\\site-packages (from parsedatetime!=2.5,!=2.6,>=2.1->agate~=1.6.3->dbt-bigquery) (0.18.3)\n",
      "Requirement already satisfied: text-unidecode>=1.3 in c:\\users\\rafae\\appdata\\local\\programs\\python\\python311\\lib\\site-packages (from python-slugify>=1.2.1->agate~=1.6.3->dbt-bigquery) (1.3)\n",
      "Requirement already satisfied: charset-normalizer<4,>=2 in c:\\users\\rafae\\appdata\\local\\programs\\python\\python311\\lib\\site-packages (from requests<3.0.0->dbt-core~=1.4.0->dbt-bigquery) (3.0.1)\n",
      "Requirement already satisfied: urllib3<1.27,>=1.21.1 in c:\\users\\rafae\\appdata\\local\\programs\\python\\python311\\lib\\site-packages (from requests<3.0.0->dbt-core~=1.4.0->dbt-bigquery) (1.26.14)\n",
      "Requirement already satisfied: certifi>=2017.4.17 in c:\\users\\rafae\\appdata\\local\\programs\\python\\python311\\lib\\site-packages (from requests<3.0.0->dbt-core~=1.4.0->dbt-bigquery) (2022.12.7)\n",
      "Requirement already satisfied: attrs>=17.4.0 in c:\\users\\rafae\\appdata\\local\\programs\\python\\python311\\lib\\site-packages (from jsonschema>=3.0->hologram<=0.0.16,>=0.0.14->dbt-core~=1.4.0->dbt-bigquery) (22.2.0)\n",
      "Requirement already satisfied: pyrsistent!=0.17.0,!=0.17.1,!=0.17.2,>=0.14.0 in c:\\users\\rafae\\appdata\\local\\programs\\python\\python311\\lib\\site-packages (from jsonschema>=3.0->hologram<=0.0.16,>=0.0.14->dbt-core~=1.4.0->dbt-bigquery) (0.19.3)\n",
      "Requirement already satisfied: pyasn1<0.5.0,>=0.4.6 in c:\\users\\rafae\\appdata\\local\\programs\\python\\python311\\lib\\site-packages (from pyasn1-modules>=0.2.1->google-auth<3.0dev,>=1.25.0->google-cloud-storage~=2.4->dbt-bigquery) (0.4.8)\n",
      "Requirement already satisfied: h2<5,>=3.1.0 in c:\\users\\rafae\\appdata\\local\\programs\\python\\python311\\lib\\site-packages (from grpclib->betterproto==1.2.5->dbt-core~=1.4.0->dbt-bigquery) (4.1.0)\n",
      "Requirement already satisfied: multidict in c:\\users\\rafae\\appdata\\local\\programs\\python\\python311\\lib\\site-packages (from grpclib->betterproto==1.2.5->dbt-core~=1.4.0->dbt-bigquery) (6.0.4)\n",
      "Requirement already satisfied: hyperframe<7,>=6.0 in c:\\users\\rafae\\appdata\\local\\programs\\python\\python311\\lib\\site-packages (from h2<5,>=3.1.0->grpclib->betterproto==1.2.5->dbt-core~=1.4.0->dbt-bigquery) (6.0.1)\n",
      "Requirement already satisfied: hpack<5,>=4.0 in c:\\users\\rafae\\appdata\\local\\programs\\python\\python311\\lib\\site-packages (from h2<5,>=3.1.0->grpclib->betterproto==1.2.5->dbt-core~=1.4.0->dbt-bigquery) (4.0.0)\n"
     ]
    },
    {
     "name": "stderr",
     "output_type": "stream",
     "text": [
      "\n",
      "[notice] A new release of pip is available: 23.0.1 -> 23.1\n",
      "[notice] To update, run: python.exe -m pip install --upgrade pip\n"
     ]
    }
   ],
   "source": [
    "!pip install dbt-bigquery"
   ]
  },
  {
   "cell_type": "code",
   "execution_count": 3,
   "metadata": {},
   "outputs": [
    {
     "name": "stderr",
     "output_type": "stream",
     "text": [
      "Core:\n",
      "  - installed: 1.4.6\n",
      "  - latest:    1.4.6 - \u001b[32mUp to date!\u001b[0m\n",
      "\n",
      "Plugins:\n",
      "  - bigquery: 1.4.3 - \u001b[32mUp to date!\u001b[0m\n"
     ]
    }
   ],
   "source": [
    "!dbt --version"
   ]
  },
  {
   "cell_type": "code",
   "execution_count": null,
   "metadata": {},
   "outputs": [],
   "source": []
  }
 ],
 "metadata": {
  "kernelspec": {
   "display_name": "Python 3",
   "language": "python",
   "name": "python3"
  },
  "language_info": {
   "codemirror_mode": {
    "name": "ipython",
    "version": 3
   },
   "file_extension": ".py",
   "mimetype": "text/x-python",
   "name": "python",
   "nbconvert_exporter": "python",
   "pygments_lexer": "ipython3",
   "version": "3.11.0"
  },
  "orig_nbformat": 4
 },
 "nbformat": 4,
 "nbformat_minor": 2
}
